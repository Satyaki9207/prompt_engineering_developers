{
 "cells": [
  {
   "cell_type": "code",
   "execution_count": 1,
   "metadata": {},
   "outputs": [],
   "source": [
    "from helper_functions import get_completion\n"
   ]
  },
  {
   "cell_type": "code",
   "execution_count": 2,
   "metadata": {},
   "outputs": [],
   "source": [
    "fact_sheet_chair = \"\"\"\n",
    "    OVERVIEW\n",
    "    - Part of a beautiful family of mid-century inspired office furniture, \n",
    "    including filing cabinets, desks, bookcases, meeting tables, and more.\n",
    "    - Several options of shell color and base finishes.\n",
    "    - Available with plastic back and front upholstery (SWC-100) \n",
    "    or full upholstery (SWC-110) in 10 fabric and 6 leather options.\n",
    "    - Base finish options are: stainless steel, matte black, \n",
    "    gloss white, or chrome.\n",
    "    - Chair is available with or without armrests.\n",
    "    - Suitable for home or business settings.\n",
    "    - Qualified for contract use.\n",
    "\n",
    "    CONSTRUCTION\n",
    "    - 5-wheel plastic coated aluminum base.\n",
    "    - Pneumatic chair adjust for easy raise/lower action.\n",
    "\n",
    "    DIMENSIONS\n",
    "    - WIDTH 53 CM | 20.87”\n",
    "    - DEPTH 51 CM | 20.08”\n",
    "    - HEIGHT 80 CM | 31.50”\n",
    "    - SEAT HEIGHT 44 CM | 17.32”\n",
    "    - SEAT DEPTH 41 CM | 16.14”\n",
    "\n",
    "    OPTIONS\n",
    "    - Soft or hard-floor caster options.\n",
    "    - Two choices of seat foam densities: \n",
    "    medium (1.8 lb/ft3) or high (2.8 lb/ft3)\n",
    "    - Armless or 8 position PU armrests \n",
    "\n",
    "    MATERIALS\n",
    "    SHELL BASE GLIDER\n",
    "    - Cast Aluminum with modified nylon PA6/PA66 coating.\n",
    "    - Shell thickness: 10 mm.\n",
    "    SEAT\n",
    "    - HD36 foam\n",
    "\n",
    "    COUNTRY OF ORIGIN\n",
    "    - Italy\n",
    "    \"\"\""
   ]
  },
  {
   "cell_type": "code",
   "execution_count": 3,
   "metadata": {},
   "outputs": [
    {
     "name": "stdout",
     "output_type": "stream",
     "text": [
      "Introducing our stunning mid-century inspired office chair, the SWC-100. This chair is part of a beautiful family of office furniture that includes filing cabinets, desks, bookcases, meeting tables, and more. With its sleek design and customizable options, it is suitable for both home and business settings.\n",
      "\n",
      "One of the standout features of the SWC-100 is the variety of options available. You can choose from several shell colors and base finishes, allowing you to create a chair that perfectly matches your style and decor. The chair is available with either plastic back and front upholstery or full upholstery in a range of 10 fabric and 6 leather options. The base finish options include stainless steel, matte black, gloss white, or chrome. Additionally, you have the choice of having armrests or opting for an armless design.\n",
      "\n",
      "Constructed with durability and comfort in mind, the SWC-100 features a 5-wheel plastic coated aluminum base for stability and mobility. The pneumatic chair adjust allows for easy raise and lower action, ensuring that you can find the perfect height for your workspace.\n",
      "\n",
      "In terms of dimensions, the SWC-100 has a width of 53 cm (20.87\"), a depth of 51 cm (20.08\"), and a height of 80 cm (31.50\"). The seat height is 44 cm (17.32\") and the seat depth is 41 cm (16.14\"). These dimensions make it a versatile and comfortable choice for a variety of users.\n",
      "\n",
      "We understand that everyone has different needs, which is why we offer a range of options for the SWC-100. You can choose between soft or hard-floor caster options, allowing you to easily move the chair on different surfaces. Additionally, you have the choice of two seat foam densities: medium (1.8 lb/ft3) or high (2.8 lb/ft3). This ensures that you can select the level of comfort that suits you best. Lastly, you can choose between an armless design or 8 position PU armrests for added support.\n",
      "\n",
      "When it comes to materials, the SWC-100 is crafted with high-quality components. The shell base glider is made of cast aluminum with a modified nylon PA6/PA66 coating, ensuring durability and stability. The shell thickness is 10 mm, providing a sturdy structure. The seat is made of HD36 foam, which offers excellent comfort and support.\n",
      "\n",
      "We take pride in the quality and craftsmanship of our products, and the SWC-100 is no exception. It is made in Italy, a country renowned for its expertise in design and manufacturing.\n",
      "\n",
      "Upgrade your office space with the SWC-100 office chair and experience the perfect blend of style, comfort, and functionality.\n"
     ]
    }
   ],
   "source": [
    "prompt = f\"\"\"\n",
    "    Your task is to help a marketing team create a \n",
    "    description for a retail website of a product based \n",
    "    on a technical fact sheet.\n",
    "\n",
    "    Write a product description based on the information \n",
    "    provided in the technical specifications delimited by \n",
    "    triple backticks.\n",
    "\n",
    "    Technical specifications: ```{fact_sheet_chair}```\n",
    "    \"\"\" \n",
    "response = get_completion(prompt)\n",
    "print(response)"
   ]
  },
  {
   "cell_type": "code",
   "execution_count": 4,
   "metadata": {},
   "outputs": [
    {
     "name": "stdout",
     "output_type": "stream",
     "text": [
      "Introducing our mid-century inspired office chair, part of a beautiful furniture collection. With various color and finish options, it can be customized to suit any space. Choose between plastic or full upholstery in a range of fabrics and leathers. The chair features a durable aluminum base and pneumatic chair adjustment for easy height control. Suitable for both home and business settings, this chair is designed for comfort and style. Made in Italy.\n"
     ]
    }
   ],
   "source": [
    "# Issue with previous prompt: Text is too long\n",
    "# Specify length of output in the prompt\n",
    "prompt = f\"\"\"\n",
    "    Your task is to help a marketing team create a \n",
    "    description for a retail website of a product based \n",
    "    on a technical fact sheet.\n",
    "\n",
    "    Write a product description based on the information \n",
    "    provided in the technical specifications delimited by \n",
    "    triple backticks.\n",
    "\n",
    "    Use at most 50 words.\n",
    "\n",
    "    Technical specifications: ```{fact_sheet_chair}```\n",
    "    \"\"\"\n",
    "response = get_completion(prompt)\n",
    "print(response)"
   ]
  },
  {
   "cell_type": "code",
   "execution_count": 5,
   "metadata": {},
   "outputs": [
    {
     "name": "stdout",
     "output_type": "stream",
     "text": [
      "Introducing our mid-century inspired office chair, part of a beautiful furniture collection. Constructed with a 5-wheel plastic coated aluminum base and a pneumatic chair adjust for easy raise/lower action. Available in various shell colors and base finishes, with options for plastic or full upholstery in fabric or leather. Suitable for home or business settings. Made in Italy.\n"
     ]
    }
   ],
   "source": [
    "# Make the model focus more on technical details\n",
    "prompt = f\"\"\"\n",
    "Your task is to help a marketing team create a \n",
    "description for a retail website of a product based \n",
    "on a technical fact sheet.\n",
    "\n",
    "Write a product description based on the information \n",
    "provided in the technical specifications delimited by \n",
    "triple backticks.\n",
    "\n",
    "The description is intended for furniture retailers, \n",
    "so should be technical in nature and focus on the \n",
    "materials the product is constructed from.\n",
    "\n",
    "Use at most 50 words.\n",
    "\n",
    "Technical specifications: ```{fact_sheet_chair}```\n",
    "\"\"\"\n",
    "response = get_completion(prompt)\n",
    "print(response)"
   ]
  },
  {
   "cell_type": "code",
   "execution_count": 6,
   "metadata": {},
   "outputs": [
    {
     "name": "stdout",
     "output_type": "stream",
     "text": [
      "Introducing our mid-century inspired office chair, part of a beautiful family of furniture designed for both home and business settings. With a range of shell colors and base finishes to choose from, this chair offers versatility and style. The chair is available with plastic or full upholstery in a variety of fabric and leather options. The 5-wheel plastic coated aluminum base and pneumatic chair adjust ensure easy movement and comfort. Choose between soft or hard-floor casters and two seat foam densities for personalized comfort. Made with high-quality materials, including a cast aluminum shell with a modified nylon coating and HD36 foam seat, this chair is built to last. Made in Italy.\n",
      "\n",
      "Product IDs: SWC-100, SWC-110\n"
     ]
    }
   ],
   "source": [
    "# Making the model include product IDs\n",
    "prompt = f\"\"\"\n",
    "Your task is to help a marketing team create a \n",
    "description for a retail website of a product based \n",
    "on a technical fact sheet.\n",
    "\n",
    "Write a product description based on the information \n",
    "provided in the technical specifications delimited by \n",
    "triple backticks.\n",
    "\n",
    "The description is intended for furniture retailers, \n",
    "so should be technical in nature and focus on the \n",
    "materials the product is constructed from.\n",
    "\n",
    "At the end of the description, include every 7-character \n",
    "Product ID in the technical specification.\n",
    "\n",
    "Use at most 50 words.\n",
    "\n",
    "Technical specifications: ```{fact_sheet_chair}```\n",
    "\"\"\"\n",
    "response = get_completion(prompt)\n",
    "print(response)"
   ]
  },
  {
   "cell_type": "code",
   "execution_count": 7,
   "metadata": {},
   "outputs": [
    {
     "name": "stdout",
     "output_type": "stream",
     "text": [
      "<div>\n",
      "  <h2>Product Description</h2>\n",
      "  <p>\n",
      "    Introducing our latest addition to our mid-century inspired office furniture collection, the SWC-100 Chair. This chair is part of a beautiful family of furniture that includes filing cabinets, desks, bookcases, meeting tables, and more. With its sleek design and customizable options, it is suitable for both home and business settings.\n",
      "  </p>\n",
      "  <p>\n",
      "    The SWC-100 Chair offers several options for customization. You can choose from a variety of shell colors and base finishes to match your existing decor. The chair is available with plastic back and front upholstery or full upholstery in a range of fabric and leather options. The base finish options include stainless steel, matte black, gloss white, or chrome. You can also choose whether to have armrests or not, depending on your preference.\n",
      "  </p>\n",
      "  <p>\n",
      "    The construction of the SWC-100 Chair is built to last. It features a 5-wheel plastic coated aluminum base, providing stability and mobility. The chair also has a pneumatic chair adjust for easy raise and lower action, ensuring optimal comfort for extended periods of sitting.\n",
      "  </p>\n",
      "  <p>\n",
      "    The dimensions of the SWC-100 Chair are as follows:\n",
      "  </p>\n",
      "  <table>\n",
      "    <caption>Product Dimensions</caption>\n",
      "    <tr>\n",
      "      <th>Dimension</th>\n",
      "      <th>Measurement (inches)</th>\n",
      "    </tr>\n",
      "    <tr>\n",
      "      <td>Width</td>\n",
      "      <td>20.87\"</td>\n",
      "    </tr>\n",
      "    <tr>\n",
      "      <td>Depth</td>\n",
      "      <td>20.08\"</td>\n",
      "    </tr>\n",
      "    <tr>\n",
      "      <td>Height</td>\n",
      "      <td>31.50\"</td>\n",
      "    </tr>\n",
      "    <tr>\n",
      "      <td>Seat Height</td>\n",
      "      <td>17.32\"</td>\n",
      "    </tr>\n",
      "    <tr>\n",
      "      <td>Seat Depth</td>\n",
      "      <td>16.14\"</td>\n",
      "    </tr>\n",
      "  </table>\n",
      "  <p>\n",
      "    In addition to the customization options and sturdy construction, the SWC-100 Chair offers various additional options. You can choose between soft or hard-floor caster options, depending on the type of flooring in your space. The chair also comes with two choices of seat foam densities: medium (1.8 lb/ft3) or high (2.8 lb/ft3). Lastly, you can opt for armless or 8 position PU armrests for added comfort and versatility.\n",
      "  </p>\n",
      "  <p>\n",
      "    The materials used in the construction of the SWC-100 Chair are of high quality. The shell and base glider are made of cast aluminum with a modified nylon PA6/PA66 coating, ensuring durability and stability. The seat is made of HD36 foam, providing a comfortable seating experience.\n",
      "  </p>\n",
      "  <p>\n",
      "    The SWC-100 Chair is proudly made in Italy, known for its craftsmanship and attention to detail.\n",
      "  </p>\n",
      "  <p>\n",
      "    Product ID: SWC-100\n",
      "  </p>\n",
      "</div>\n"
     ]
    }
   ],
   "source": [
    "# Get model to generate a html doc\n",
    "prompt = f\"\"\"\n",
    "Your task is to help a marketing team create a \n",
    "description for a retail website of a product based \n",
    "on a technical fact sheet.\n",
    "\n",
    "Write a product description based on the information \n",
    "provided in the technical specifications delimited by \n",
    "triple backticks.\n",
    "\n",
    "The description is intended for furniture retailers, \n",
    "so should be technical in nature and focus on the \n",
    "materials the product is constructed from.\n",
    "\n",
    "At the end of the description, include every 7-character \n",
    "Product ID in the technical specification.\n",
    "\n",
    "After the description, include a table that gives the \n",
    "product's dimensions. The table should have two columns.\n",
    "In the first column include the name of the dimension. \n",
    "In the second column include the measurements in inches only.\n",
    "\n",
    "Give the table the title 'Product Dimensions'.\n",
    "\n",
    "Format everything as HTML that can be used in a website. \n",
    "Place the description in a <div> element.\n",
    "\n",
    "Technical specifications: ```{fact_sheet_chair}```\n",
    "\"\"\"\n",
    "\n",
    "response = get_completion(prompt)\n",
    "print(response)"
   ]
  },
  {
   "cell_type": "code",
   "execution_count": 8,
   "metadata": {},
   "outputs": [
    {
     "data": {
      "text/html": [
       "<div>\n",
       "  <h2>Product Description</h2>\n",
       "  <p>\n",
       "    Introducing our latest addition to our mid-century inspired office furniture collection, the SWC-100 Chair. This chair is part of a beautiful family of furniture that includes filing cabinets, desks, bookcases, meeting tables, and more. With its sleek design and customizable options, it is suitable for both home and business settings.\n",
       "  </p>\n",
       "  <p>\n",
       "    The SWC-100 Chair offers several options for customization. You can choose from a variety of shell colors and base finishes to match your existing decor. The chair is available with plastic back and front upholstery or full upholstery in a range of fabric and leather options. The base finish options include stainless steel, matte black, gloss white, or chrome. You can also choose whether to have armrests or not, depending on your preference.\n",
       "  </p>\n",
       "  <p>\n",
       "    The construction of the SWC-100 Chair is built to last. It features a 5-wheel plastic coated aluminum base, providing stability and mobility. The chair also has a pneumatic chair adjust for easy raise and lower action, ensuring optimal comfort for extended periods of sitting.\n",
       "  </p>\n",
       "  <p>\n",
       "    The dimensions of the SWC-100 Chair are as follows:\n",
       "  </p>\n",
       "  <table>\n",
       "    <caption>Product Dimensions</caption>\n",
       "    <tr>\n",
       "      <th>Dimension</th>\n",
       "      <th>Measurement (inches)</th>\n",
       "    </tr>\n",
       "    <tr>\n",
       "      <td>Width</td>\n",
       "      <td>20.87\"</td>\n",
       "    </tr>\n",
       "    <tr>\n",
       "      <td>Depth</td>\n",
       "      <td>20.08\"</td>\n",
       "    </tr>\n",
       "    <tr>\n",
       "      <td>Height</td>\n",
       "      <td>31.50\"</td>\n",
       "    </tr>\n",
       "    <tr>\n",
       "      <td>Seat Height</td>\n",
       "      <td>17.32\"</td>\n",
       "    </tr>\n",
       "    <tr>\n",
       "      <td>Seat Depth</td>\n",
       "      <td>16.14\"</td>\n",
       "    </tr>\n",
       "  </table>\n",
       "  <p>\n",
       "    In addition to the customization options and sturdy construction, the SWC-100 Chair offers various additional options. You can choose between soft or hard-floor caster options, depending on the type of flooring in your space. The chair also comes with two choices of seat foam densities: medium (1.8 lb/ft3) or high (2.8 lb/ft3). Lastly, you can opt for armless or 8 position PU armrests for added comfort and versatility.\n",
       "  </p>\n",
       "  <p>\n",
       "    The materials used in the construction of the SWC-100 Chair are of high quality. The shell and base glider are made of cast aluminum with a modified nylon PA6/PA66 coating, ensuring durability and stability. The seat is made of HD36 foam, providing a comfortable seating experience.\n",
       "  </p>\n",
       "  <p>\n",
       "    The SWC-100 Chair is proudly made in Italy, known for its craftsmanship and attention to detail.\n",
       "  </p>\n",
       "  <p>\n",
       "    Product ID: SWC-100\n",
       "  </p>\n",
       "</div>"
      ],
      "text/plain": [
       "<IPython.core.display.HTML object>"
      ]
     },
     "metadata": {},
     "output_type": "display_data"
    }
   ],
   "source": [
    "from IPython.display import display, HTML\n",
    "display(HTML(response))"
   ]
  },
  {
   "cell_type": "code",
   "execution_count": null,
   "metadata": {},
   "outputs": [],
   "source": []
  },
  {
   "cell_type": "code",
   "execution_count": null,
   "metadata": {},
   "outputs": [],
   "source": []
  },
  {
   "cell_type": "code",
   "execution_count": null,
   "metadata": {},
   "outputs": [],
   "source": []
  }
 ],
 "metadata": {
  "kernelspec": {
   "display_name": "openai",
   "language": "python",
   "name": "python3"
  },
  "language_info": {
   "codemirror_mode": {
    "name": "ipython",
    "version": 3
   },
   "file_extension": ".py",
   "mimetype": "text/x-python",
   "name": "python",
   "nbconvert_exporter": "python",
   "pygments_lexer": "ipython3",
   "version": "3.11.5"
  }
 },
 "nbformat": 4,
 "nbformat_minor": 2
}
